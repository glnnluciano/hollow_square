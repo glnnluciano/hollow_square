{
 "cells": [
  {
   "cell_type": "markdown",
   "metadata": {},
   "source": [
    "## Lab 2 Exercise 3\n",
    "#### Generate a hollow square based on the + integer input side length n."
   ]
  },
  {
   "cell_type": "code",
   "execution_count": null,
   "metadata": {},
   "outputs": [],
   "source": [
    "def print_square(n):\n",
    "\n",
    "    for column in range(n):\n",
    "        for row in range(n):\n",
    "            if (row == 0 or row == n-1 or column == 0 or column == n-1):\n",
    "                print(\"*\", end = \"\")\n",
    "            else:\n",
    "                print(\" \", end = \"\")\n",
    "        print()\n",
    "\n",
    "while True:\n",
    "    try:\n",
    "        side = int(input(\"Enter the side length of the square: \"))\n",
    "        if side < 3:\n",
    "            raise ValueError\n",
    "        break\n",
    "\n",
    "    except ValueError:\n",
    "        print(f\"\\033[91m Error: Side must be greater than 2 to make a hollowed square. \\033[0m\")\n",
    "        \n",
    "print(f\"The side length is {side}:\")\n",
    "\n",
    "print_square(side)"
   ]
  }
 ],
 "metadata": {
  "kernelspec": {
   "display_name": "Python 3",
   "language": "python",
   "name": "python3"
  },
  "language_info": {
   "codemirror_mode": {
    "name": "ipython",
    "version": 3
   },
   "file_extension": ".py",
   "mimetype": "text/x-python",
   "name": "python",
   "nbconvert_exporter": "python",
   "pygments_lexer": "ipython3",
   "version": "3.12.0"
  }
 },
 "nbformat": 4,
 "nbformat_minor": 2
}
